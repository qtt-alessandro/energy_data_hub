{
 "cells": [
  {
   "cell_type": "code",
   "execution_count": null,
   "metadata": {},
   "outputs": [],
   "source": []
  },
  {
   "cell_type": "code",
   "execution_count": 1,
   "metadata": {},
   "outputs": [
    {
     "name": "stdout",
     "output_type": "stream",
     "text": [
      "Coordinates 55.125°N 14.875°E\n",
      "Elevation 20.0 m asl\n",
      "Timezone None None\n",
      "Timezone difference to GMT+0 0 s\n"
     ]
    },
    {
     "ename": "AttributeError",
     "evalue": "module 'datetime' has no attribute 'fromtimestamp'",
     "output_type": "error",
     "traceback": [
      "\u001b[0;31m---------------------------------------------------------------------------\u001b[0m",
      "\u001b[0;31mAttributeError\u001b[0m                            Traceback (most recent call last)",
      "Cell \u001b[0;32mIn[1], line 41\u001b[0m\n\u001b[1;32m     35\u001b[0m hourly_precipitation \u001b[38;5;241m=\u001b[39m \u001b[38;5;28mfilter\u001b[39m(\u001b[38;5;28;01mlambda\u001b[39;00m x: x\u001b[38;5;241m.\u001b[39mVariable() \u001b[38;5;241m==\u001b[39m Variable\u001b[38;5;241m.\u001b[39mprecipitation, hourly_variables)\n\u001b[1;32m     36\u001b[0m hourly_rain \u001b[38;5;241m=\u001b[39m \u001b[38;5;28mfilter\u001b[39m(\u001b[38;5;28;01mlambda\u001b[39;00m x: x\u001b[38;5;241m.\u001b[39mVariable() \u001b[38;5;241m==\u001b[39m Variable\u001b[38;5;241m.\u001b[39mrain, hourly_variables)\n\u001b[1;32m     39\u001b[0m hourly_data  \u001b[38;5;241m=\u001b[39m pl\u001b[38;5;241m.\u001b[39mDataFrame({\n\u001b[1;32m     40\u001b[0m \t\t\t\t\t\t\t\u001b[38;5;124m'\u001b[39m\u001b[38;5;124mtime\u001b[39m\u001b[38;5;124m'\u001b[39m: pl\u001b[38;5;241m.\u001b[39mdatetime_range(\n\u001b[0;32m---> 41\u001b[0m \t\t\t\t\t\t\t\tstart\u001b[38;5;241m=\u001b[39mdatetime\u001b[38;5;241m.\u001b[39mfromtimestamp(hourly\u001b[38;5;241m.\u001b[39mTime()),\n\u001b[1;32m     42\u001b[0m \t\t\t\t\t\t\t\tend\u001b[38;5;241m=\u001b[39mdatetime\u001b[38;5;241m.\u001b[39mfromtimestamp(hourly\u001b[38;5;241m.\u001b[39mTimeEnd()),\n\u001b[1;32m     43\u001b[0m \t\t\t\t\t\t\t\ttime_unit\u001b[38;5;241m=\u001b[39m\u001b[38;5;124m'\u001b[39m\u001b[38;5;124mms\u001b[39m\u001b[38;5;124m'\u001b[39m,\n\u001b[1;32m     44\u001b[0m \t\t\t\t\t\t\t\tinterval\u001b[38;5;241m=\u001b[39m\u001b[38;5;124m'\u001b[39m\u001b[38;5;124m1h\u001b[39m\u001b[38;5;124m'\u001b[39m,\n\u001b[1;32m     45\u001b[0m \t\t\t\t\t\t\t\tclosed\u001b[38;5;241m=\u001b[39m\u001b[38;5;124m'\u001b[39m\u001b[38;5;124mleft\u001b[39m\u001b[38;5;124m'\u001b[39m,\n\u001b[1;32m     46\u001b[0m \t\t\t\t\t\t\t\teager\u001b[38;5;241m=\u001b[39m\u001b[38;5;28;01mTrue\u001b[39;00m),\n\u001b[1;32m     47\u001b[0m \t\t\t\t\t\t\t\n\u001b[1;32m     48\u001b[0m \t\t\t\t\t\t})\n\u001b[1;32m     50\u001b[0m \u001b[38;5;28;01mfor\u001b[39;00m variable \u001b[38;5;129;01min\u001b[39;00m hourly_precipitation:\n\u001b[1;32m     51\u001b[0m     member \u001b[38;5;241m=\u001b[39m variable\u001b[38;5;241m.\u001b[39mEnsembleMember()\n",
      "\u001b[0;31mAttributeError\u001b[0m: module 'datetime' has no attribute 'fromtimestamp'"
     ]
    }
   ],
   "source": [
    "import openmeteo_requests\n",
    "import polars as pl \n",
    "import datetime \n",
    "import matplotlib.pyplot as plt \n",
    "from openmeteo_sdk.Variable import Variable\n",
    "from openmeteo_sdk.Aggregation import Aggregation\n",
    "import requests_cache\n",
    "from retry_requests import retry\n",
    "\n",
    "cache_session = requests_cache.CachedSession('.cache', expire_after = 3600)\n",
    "retry_session = retry(cache_session, retries = 5, backoff_factor = 0.2)\n",
    "openmeteo = openmeteo_requests.Client(session = retry_session)\n",
    "\n",
    "url = \"https://ensemble-api.open-meteo.com/v1/ensemble\"\n",
    "params = {\n",
    "\t\"latitude\": 55.10091,\n",
    "\t\"longitude\": 14.70664,\n",
    "\t\"hourly\": [\"precipitation\", \"rain\"],\n",
    "\t\"start_date\": \"2025-02-12\",\n",
    "\t\"end_date\": \"2025-02-13\",\n",
    "\t\"models\": \"icon_seamless\"\n",
    "}\n",
    "responses = openmeteo.weather_api(url, params=params)\n",
    "\n",
    "response = responses[0]\n",
    "print(f\"Coordinates {response.Latitude()}°N {response.Longitude()}°E\")\n",
    "print(f\"Elevation {response.Elevation()} m asl\")\n",
    "print(f\"Timezone {response.Timezone()} {response.TimezoneAbbreviation()}\")\n",
    "print(f\"Timezone difference to GMT+0 {response.UtcOffsetSeconds()} s\")\n",
    "\n",
    "\n",
    "# Process hourly data\n",
    "hourly = response.Hourly()\n",
    "hourly_variables = list(map(lambda i: hourly.Variables(i), range(0, hourly.VariablesLength())))\n",
    "hourly_precipitation = filter(lambda x: x.Variable() == Variable.precipitation, hourly_variables)\n",
    "hourly_rain = filter(lambda x: x.Variable() == Variable.rain, hourly_variables)\n",
    "\n",
    "\n",
    "hourly_data  = pl.DataFrame({\n",
    "\t\t\t\t\t\t\t'time': pl.datetime_range(\n",
    "\t\t\t\t\t\t\t\tstart=datetime.fromtimestamp(hourly.Time()),\n",
    "\t\t\t\t\t\t\t\tend=datetime.fromtimestamp(hourly.TimeEnd()),\n",
    "\t\t\t\t\t\t\t\ttime_unit='ms',\n",
    "\t\t\t\t\t\t\t\tinterval='1h',\n",
    "\t\t\t\t\t\t\t\tclosed='left',\n",
    "\t\t\t\t\t\t\t\teager=True),\n",
    "\t\t\t\t\t\t\t\n",
    "\t\t\t\t\t\t})\n",
    "\n",
    "for variable in hourly_precipitation:\n",
    "    member = variable.EnsembleMember()\n",
    "    hourly_data = hourly_data.with_columns(\n",
    "        pl.Series(f\"precipitation_member{member}\", variable.ValuesAsNumpy())\n",
    "    )\n",
    "\n",
    "for variable in hourly_rain:\n",
    "    member = variable.EnsembleMember()\n",
    "    hourly_data = hourly_data.with_columns(\n",
    "        pl.Series(f\"rain_member{member}\", variable.ValuesAsNumpy())\n",
    "    )\n"
   ]
  },
  {
   "cell_type": "code",
   "execution_count": null,
   "metadata": {},
   "outputs": [],
   "source": []
  },
  {
   "cell_type": "code",
   "execution_count": 2,
   "metadata": {},
   "outputs": [],
   "source": [
    "import openmeteo_requests\n",
    "import polars as pl\n",
    "import datetime\n",
    "from openmeteo_sdk.Variable import Variable\n",
    "from openmeteo_sdk.Aggregation import Aggregation\n",
    "import requests_cache\n",
    "from retry_requests import retry\n",
    "\n",
    "class WeatherDataFetcher:\n",
    "    def __init__(self, latitude, longitude, cache_path='.cache'):\n",
    "        \"\"\"\n",
    "        Initialize the WeatherDataFetcher with coordinates and optional cache path.\n",
    "        \n",
    "        Args:\n",
    "            latitude (float): Latitude of the location\n",
    "            longitude (float): Longitude of the location\n",
    "            cache_path (str): Path for the cache file\n",
    "        \"\"\"\n",
    "        self.latitude = latitude\n",
    "        self.longitude = longitude\n",
    "        self.url = \"https://ensemble-api.open-meteo.com/v1/ensemble\"\n",
    "        \n",
    "        # Setup cache and client\n",
    "        cache_session = requests_cache.CachedSession(cache_path, expire_after=3600)\n",
    "        retry_session = retry(cache_session, retries=5, backoff_factor=0.2)\n",
    "        self.client = openmeteo_requests.Client(session=retry_session)\n",
    "        \n",
    "    def fetch_weather_data(self, start_date, end_date, models=\"icon_seamless\"):\n",
    "        \"\"\"\n",
    "        Fetch weather data for the specified date range.\n",
    "        \n",
    "        Args:\n",
    "            start_date (str): Start date in YYYY-MM-DD format\n",
    "            end_date (str): End date in YYYY-MM-DD format\n",
    "            models (str): Weather model to use\n",
    "            \n",
    "        Returns:\n",
    "            tuple: (metadata_dict, polars.DataFrame)\n",
    "        \"\"\"\n",
    "        params = {\n",
    "            \"latitude\": self.latitude,\n",
    "            \"longitude\": self.longitude,\n",
    "            \"hourly\": [\"precipitation\", \"rain\"],\n",
    "            \"start_date\": start_date,\n",
    "            \"end_date\": end_date,\n",
    "            \"models\": models\n",
    "        }\n",
    "        \n",
    "        responses = self.client.weather_api(self.url, params=params)\n",
    "        response = responses[0]\n",
    "        \n",
    "        # Extract metadata\n",
    "        metadata = {\n",
    "            \"coordinates\": f\"{response.Latitude()}°N {response.Longitude()}°E\",\n",
    "            \"elevation\": f\"{response.Elevation()} m asl\",\n",
    "            \"timezone\": f\"{response.Timezone()} {response.TimezoneAbbreviation()}\",\n",
    "            \"utc_offset\": f\"{response.UtcOffsetSeconds()} s\"\n",
    "        }\n",
    "        \n",
    "        # Process hourly data\n",
    "        hourly = response.Hourly()\n",
    "        hourly_variables = [hourly.Variables(i) for i in range(hourly.VariablesLength())]\n",
    "        \n",
    "        hourly_precipitation = filter(lambda x: x.Variable() == Variable.precipitation, hourly_variables)\n",
    "        hourly_rain = filter(lambda x: x.Variable() == Variable.rain, hourly_variables)\n",
    "        \n",
    "        # Create base DataFrame with time\n",
    "        df = pl.DataFrame({\n",
    "            'time': pl.datetime_range(\n",
    "                start=datetime.datetime.fromtimestamp(hourly.Time()),\n",
    "                end=datetime.datetime.fromtimestamp(hourly.TimeEnd()),\n",
    "                time_unit='ms',\n",
    "                interval='1h',\n",
    "                closed='left',\n",
    "                eager=True\n",
    "            )\n",
    "        })\n",
    "        \n",
    "        # Add precipitation data\n",
    "        for variable in hourly_precipitation:\n",
    "            member = variable.EnsembleMember()\n",
    "            df = df.with_columns(\n",
    "                pl.Series(f\"precipitation_member{member}\", variable.ValuesAsNumpy())\n",
    "            )\n",
    "        \n",
    "        # Add rain data\n",
    "        for variable in hourly_rain:\n",
    "            member = variable.EnsembleMember()\n",
    "            df = df.with_columns(\n",
    "                pl.Series(f\"rain_member{member}\", variable.ValuesAsNumpy())\n",
    "            )\n",
    "            \n",
    "        return metadata, df\n",
    "    "
   ]
  },
  {
   "cell_type": "code",
   "execution_count": 10,
   "metadata": {},
   "outputs": [],
   "source": [
    "# Example usage\n",
    "fetcher = WeatherDataFetcher(latitude=55.10091, longitude=14.70664)\n",
    "\n",
    "# Fetch weather data\n",
    "metadata, df = fetcher.fetch_weather_data(\n",
    "    start_date=\"2025-02-12\",\n",
    "    end_date=\"2025-02-13\"\n",
    ")"
   ]
  },
  {
   "cell_type": "code",
   "execution_count": 2,
   "metadata": {},
   "outputs": [],
   "source": [
    "from datetime import datetime, timedelta\n"
   ]
  },
  {
   "cell_type": "code",
   "execution_count": null,
   "metadata": {},
   "outputs": [],
   "source": []
  },
  {
   "cell_type": "code",
   "execution_count": 4,
   "metadata": {},
   "outputs": [
    {
     "data": {
      "text/plain": [
       "'2025-02-14'"
      ]
     },
     "execution_count": 4,
     "metadata": {},
     "output_type": "execute_result"
    }
   ],
   "source": [
    "start_date"
   ]
  },
  {
   "cell_type": "code",
   "execution_count": 5,
   "metadata": {},
   "outputs": [
    {
     "data": {
      "text/plain": [
       "'2025-02-15'"
      ]
     },
     "execution_count": 5,
     "metadata": {},
     "output_type": "execute_result"
    }
   ],
   "source": [
    "end_date"
   ]
  },
  {
   "cell_type": "code",
   "execution_count": null,
   "metadata": {},
   "outputs": [],
   "source": []
  }
 ],
 "metadata": {
  "kernelspec": {
   "display_name": "sysid",
   "language": "python",
   "name": "python3"
  },
  "language_info": {
   "codemirror_mode": {
    "name": "ipython",
    "version": 3
   },
   "file_extension": ".py",
   "mimetype": "text/x-python",
   "name": "python",
   "nbconvert_exporter": "python",
   "pygments_lexer": "ipython3",
   "version": "3.9.21"
  }
 },
 "nbformat": 4,
 "nbformat_minor": 2
}
